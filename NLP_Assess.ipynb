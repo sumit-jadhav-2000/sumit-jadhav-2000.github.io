{
 "cells": [
  {
   "cell_type": "markdown",
   "id": "f94d3718",
   "metadata": {},
   "source": [
    "# About Dataset:\n",
    "    "
   ]
  },
  {
   "cell_type": "markdown",
   "id": "d4ff2eb9",
   "metadata": {},
   "source": [
    "The actual dataset contains headlines for abc news for 15 years. Dataset size is about 1 million records. But, for our purpose, \n",
    "we have selected data from 1 Jan 2016 to 30 Jun 2016, which is about 32095 in size."
   ]
  },
  {
   "cell_type": "code",
   "execution_count": 2,
   "id": "781a5aa5",
   "metadata": {},
   "outputs": [
    {
     "name": "stdout",
     "output_type": "stream",
     "text": [
      "Requirement already satisfied: nltk in /home/ec2-user/anaconda3/envs/python3/lib/python3.6/site-packages (3.4.4)\r\n",
      "Requirement already satisfied: six in /home/ec2-user/anaconda3/envs/python3/lib/python3.6/site-packages (from nltk) (1.15.0)\r\n"
     ]
    }
   ],
   "source": [
    "!pip install nltk\n"
   ]
  },
  {
   "cell_type": "code",
   "execution_count": 1,
   "id": "f01bd19e",
   "metadata": {},
   "outputs": [],
   "source": [
    "import sagemaker\n",
    "import boto3\n",
    "import os\n",
    "import io\n",
    "import pickle\n",
    "\n",
    "import pandas as pd\n",
    "import numpy as np\n",
    "import matplotlib.pyplot as plt\n",
    "import seaborn as sns\n",
    "\n",
    "from sklearn.feature_extraction import text\n",
    "from sklearn.feature_extraction.text import TfidfVectorizer\n",
    "\n",
    "\n",
    "%matplotlib inline"
   ]
  },
  {
   "cell_type": "code",
   "execution_count": 3,
   "id": "cd7e49fc",
   "metadata": {},
   "outputs": [
    {
     "data": {
      "text/plain": [
       "'arn:aws:iam::313830654669:role/service-role/AmazonSageMaker-ExecutionRole-20220605T193127'"
      ]
     },
     "execution_count": 3,
     "metadata": {},
     "output_type": "execute_result"
    }
   ],
   "source": [
    "from sagemaker import get_execution_role\n",
    "role = get_execution_role()\n",
    "role"
   ]
  },
  {
   "cell_type": "markdown",
   "id": "3fd82579",
   "metadata": {},
   "source": [
    "# Loading Dataset"
   ]
  },
  {
   "cell_type": "code",
   "execution_count": 4,
   "id": "0f7c5e5d",
   "metadata": {},
   "outputs": [
    {
     "name": "stdout",
     "output_type": "stream",
     "text": [
      "us-east-1\n"
     ]
    },
    {
     "name": "stderr",
     "output_type": "stream",
     "text": [
      "/home/ec2-user/anaconda3/envs/python3/lib/python3.6/site-packages/boto3/compat.py:88: PythonDeprecationWarning: Boto3 will no longer support Python 3.6 starting May 30, 2022. To continue receiving service updates, bug fixes, and security updates please upgrade to Python 3.7 or later. More information can be found here: https://aws.amazon.com/blogs/developer/python-support-policy-updates-for-aws-sdks-and-tools/\n",
      "  warnings.warn(warning, PythonDeprecationWarning)\n"
     ]
    }
   ],
   "source": [
    "s3_client = boto3.client('s3')\n",
    "bucket_name = 'abc-news-2016'\n",
    "my_region = boto3.session.Session().region_name\n",
    "print(my_region)"
   ]
  },
  {
   "cell_type": "code",
   "execution_count": 11,
   "id": "ac4924d2",
   "metadata": {},
   "outputs": [
    {
     "name": "stdout",
     "output_type": "stream",
     "text": [
      "['1.csv', '2.csv', '3.csv', '4.csv', '5.csv', '6.csv', 'results/token.txt', 'token.txt']\n"
     ]
    }
   ],
   "source": [
    "obj_list = s3_client.list_objects(Bucket=bucket_name)\n",
    "files = []\n",
    "for contents in obj_list['Contents']:\n",
    "    files.append(contents['Key'])\n",
    "print(files)    "
   ]
  },
  {
   "cell_type": "markdown",
   "id": "119824bd",
   "metadata": {},
   "source": [
    "# Combining files"
   ]
  },
  {
   "cell_type": "code",
   "execution_count": 20,
   "id": "3ae422f1",
   "metadata": {},
   "outputs": [],
   "source": [
    "files = files[:6]\n",
    "df = pd.DataFrame()\n",
    "for file in files:\n",
    "    response = s3_client.get_object(Bucket=bucket_name, Key=file)\n",
    "    response_body = response[\"Body\"].read()\n",
    "    temp = pd.read_csv(io.BytesIO(response_body), header=0, delimiter=\",\", low_memory=False)\n",
    "#     print(temp.shape)\n",
    "    df = df.append(temp, ignore_index = True)\n",
    "#     print(df.shape)"
   ]
  },
  {
   "cell_type": "code",
   "execution_count": 21,
   "id": "c99f51b2",
   "metadata": {},
   "outputs": [
    {
     "data": {
      "text/plain": [
       "(32095, 2)"
      ]
     },
     "execution_count": 21,
     "metadata": {},
     "output_type": "execute_result"
    }
   ],
   "source": [
    "df.shape"
   ]
  },
  {
   "cell_type": "code",
   "execution_count": 22,
   "id": "e5a3b380",
   "metadata": {},
   "outputs": [
    {
     "data": {
      "text/html": [
       "<div>\n",
       "<style scoped>\n",
       "    .dataframe tbody tr th:only-of-type {\n",
       "        vertical-align: middle;\n",
       "    }\n",
       "\n",
       "    .dataframe tbody tr th {\n",
       "        vertical-align: top;\n",
       "    }\n",
       "\n",
       "    .dataframe thead th {\n",
       "        text-align: right;\n",
       "    }\n",
       "</style>\n",
       "<table border=\"1\" class=\"dataframe\">\n",
       "  <thead>\n",
       "    <tr style=\"text-align: right;\">\n",
       "      <th></th>\n",
       "      <th>publish_date</th>\n",
       "      <th>headline_text</th>\n",
       "    </tr>\n",
       "  </thead>\n",
       "  <tbody>\n",
       "    <tr>\n",
       "      <th>0</th>\n",
       "      <td>2016-01-01</td>\n",
       "      <td>1985 qld cabinet documents mabo decision</td>\n",
       "    </tr>\n",
       "    <tr>\n",
       "      <th>1</th>\n",
       "      <td>2016-01-01</td>\n",
       "      <td>49ers juggle jarryd haynes talent mistakes</td>\n",
       "    </tr>\n",
       "    <tr>\n",
       "      <th>2</th>\n",
       "      <td>2016-01-01</td>\n",
       "      <td>abjorensen the 2016 battlelines have been drawn</td>\n",
       "    </tr>\n",
       "    <tr>\n",
       "      <th>3</th>\n",
       "      <td>2016-01-01</td>\n",
       "      <td>alex ross takes diving catch to dismiss michae...</td>\n",
       "    </tr>\n",
       "    <tr>\n",
       "      <th>4</th>\n",
       "      <td>2016-01-01</td>\n",
       "      <td>ama welcome no jab; no pay vaccination policy</td>\n",
       "    </tr>\n",
       "  </tbody>\n",
       "</table>\n",
       "</div>"
      ],
      "text/plain": [
       "  publish_date                                      headline_text\n",
       "0   2016-01-01           1985 qld cabinet documents mabo decision\n",
       "1   2016-01-01         49ers juggle jarryd haynes talent mistakes\n",
       "2   2016-01-01    abjorensen the 2016 battlelines have been drawn\n",
       "3   2016-01-01  alex ross takes diving catch to dismiss michae...\n",
       "4   2016-01-01      ama welcome no jab; no pay vaccination policy"
      ]
     },
     "execution_count": 22,
     "metadata": {},
     "output_type": "execute_result"
    }
   ],
   "source": [
    "df.head()"
   ]
  },
  {
   "cell_type": "code",
   "execution_count": 23,
   "id": "e612df86",
   "metadata": {},
   "outputs": [
    {
     "name": "stdout",
     "output_type": "stream",
     "text": [
      "(32095, 2)\n",
      "(31759, 2)\n"
     ]
    }
   ],
   "source": [
    "print(df.shape)\n",
    "df = df.drop_duplicates('headline_text')\n",
    "print(df.shape)"
   ]
  },
  {
   "cell_type": "code",
   "execution_count": 24,
   "id": "26273fd7",
   "metadata": {},
   "outputs": [
    {
     "name": "stderr",
     "output_type": "stream",
     "text": [
      "[nltk_data] Downloading package punkt to /home/ec2-user/nltk_data...\n",
      "[nltk_data]   Package punkt is already up-to-date!\n",
      "[nltk_data] Downloading package stopwords to\n",
      "[nltk_data]     /home/ec2-user/nltk_data...\n",
      "[nltk_data]   Package stopwords is already up-to-date!\n"
     ]
    },
    {
     "data": {
      "text/plain": [
       "True"
      ]
     },
     "execution_count": 24,
     "metadata": {},
     "output_type": "execute_result"
    }
   ],
   "source": [
    "import nltk\n",
    "nltk.download('punkt')\n",
    "nltk.download('stopwords')"
   ]
  },
  {
   "cell_type": "markdown",
   "id": "131b4f76",
   "metadata": {},
   "source": [
    "# Tokenizing and stemming"
   ]
  },
  {
   "cell_type": "code",
   "execution_count": 61,
   "id": "72d76b59",
   "metadata": {},
   "outputs": [
    {
     "name": "stdout",
     "output_type": "stream",
     "text": [
      "0                    [qld, cabinet, document, mabo, decis]\n",
      "1                [er, juggl, jarryd, hayn, talent, mistak]\n",
      "2          [abjorensen, the, battlelin, have, been, drawn]\n",
      "3        [alex, ross, take, dive, catch, to, dismiss, m...\n",
      "4          [ama, welcom, no, jab, no, pay, vaccin, polici]\n",
      "                               ...                        \n",
      "32090    [west, australian, job, cut, ahead, of, sunday...\n",
      "32091    [what, is, hoard, examin, the, featur, of, thi...\n",
      "32092    [wycheproof, p, colleg, student, sing, song, a...\n",
      "32093    [wyndham, vale, lake, crash, mother, did, noth...\n",
      "32094    [young, rider, descend, on, toowoomba, for, eq...\n",
      "Name: tokenized, Length: 31759, dtype: object\n",
      "243522\n",
      "200795\n",
      "200795\n",
      "['qld', 'cabinet', 'document', 'mabo', 'decis', 'er', 'juggl', 'jarryd', 'hayn', 'talent', 'mistak', 'abjorensen', 'battlelin', 'drawn', 'alex', 'ross', 'take', 'dive', 'catch', 'dismiss', 'michael', 'lumb', 'ama', 'welcom', 'jab', 'pay', 'vaccin', 'polici', 'angri', 'nix', 'coach', 'merrick', 'slam', 'odonovan', 'headbutt', 'archbishop', 'philip', 'wilson', 'return', 'work', 'aurora', 'steal', 'show', 'light', 'new', 'year', 'night', 'sky', 'australian', 'flock', 'firework', 'display', 'around', 'countri', 'belgium', 'hold', 'three', 'peopl', 'new', 'year', 'attack', 'plot', 'boat', 'catch', 'fire', 'matilda', 'bay', 'perth', 'bob', 'hawk', 'discuss', 'releas', 'cabinet', 'paper', 'bodi', 'found', 'dure', 'search', 'miss', 'surfer', 'gold', 'coast', 'boulia', 'mayor', 'richard', 'brittain', 'discuss', 'flood', 'assist', 'buckmast', 'hollywood', 'industrialis', 'nostalgia', 'bushfir', 'clear', 'secret', 'harbour', 'south', 'perth', 'cas']\n"
     ]
    }
   ],
   "source": [
    "words = []\n",
    "from nltk.tokenize import RegexpTokenizer\n",
    "from nltk.stem.snowball import SnowballStemmer\n",
    "tokenizer = RegexpTokenizer(r'[a-zA-Z\\']+')\n",
    "stemmer = SnowballStemmer('english')\n",
    "def tokenize(text):\n",
    "    return [stemmer.stem(word) for word in tokenizer.tokenize(text.lower())]\n",
    "    \n",
    "df['tokenized'] = df['headline_text'].apply(tokenize)\n",
    "print(df['tokenized'])\n",
    "for lst in df['tokenized']:\n",
    "    words.extend(lst)\n",
    "print(len(words))\n",
    "\n",
    "# words = [word for word in words if not word.isnumeric()]\n",
    "      \n",
    "from nltk.corpus import stopwords\n",
    "stops = stopwords.words('english')\n",
    "words = [word for word in words if word not in stops]\n",
    "print(len(words))\n",
    "\n",
    "import string\n",
    "punctuations = list(string.punctuation)\n",
    "words = [word for word in words if word not in punctuations]\n",
    "print(len(words))\n",
    "\n",
    "print(words[:100])\n",
    "      "
   ]
  },
  {
   "cell_type": "markdown",
   "id": "a5042239",
   "metadata": {},
   "source": [
    "word_features = vectorizer.get_feature_names()\n",
    "print(len(word_features))\n",
    "print(word_features[2000:2100])"
   ]
  },
  {
   "cell_type": "code",
   "execution_count": 53,
   "id": "148a57b0",
   "metadata": {},
   "outputs": [],
   "source": [
    "with open('token.txt', 'w') as f:\n",
    "    for token in words:\n",
    "        f.write(token +\"\\n\")"
   ]
  },
  {
   "cell_type": "markdown",
   "id": "0e88f7dc",
   "metadata": {},
   "source": [
    "words = []\n",
    "with open('token.txt', 'r') as f:\n",
    "    for line in f:\n",
    "        words.append(line.strip())\n",
    "print(len(words))\n",
    "print(words[:100])"
   ]
  },
  {
   "cell_type": "markdown",
   "id": "2b41e46f",
   "metadata": {},
   "source": [
    "# Uploading the token file to S3"
   ]
  },
  {
   "cell_type": "code",
   "execution_count": 54,
   "id": "249c94de",
   "metadata": {},
   "outputs": [],
   "source": [
    "boto3.Session().resource('s3').Bucket(bucket_name).Object(os.path.join('results/','token.txt')).upload_file('token.txt')"
   ]
  },
  {
   "cell_type": "markdown",
   "id": "5857bb21",
   "metadata": {},
   "source": [
    "# Retrieving the token File "
   ]
  },
  {
   "cell_type": "code",
   "execution_count": 55,
   "id": "ca7cb731",
   "metadata": {},
   "outputs": [
    {
     "name": "stdout",
     "output_type": "stream",
     "text": [
      "['1.csv', '2.csv', '3.csv', '4.csv', '5.csv', '6.csv', 'results/token.txt', 'token.txt']\n"
     ]
    }
   ],
   "source": [
    "obj_list = s3_client.list_objects(Bucket=bucket_name)\n",
    "files = []\n",
    "for contents in obj_list['Contents']:\n",
    "    files.append(contents['Key'])\n",
    "print(files)  "
   ]
  },
  {
   "cell_type": "code",
   "execution_count": 56,
   "id": "af6c0df3",
   "metadata": {},
   "outputs": [
    {
     "name": "stdout",
     "output_type": "stream",
     "text": [
      "results/token.txt\n"
     ]
    }
   ],
   "source": [
    "file_name = files[6]\n",
    "print(file_name)"
   ]
  },
  {
   "cell_type": "code",
   "execution_count": 57,
   "id": "db9dfe2b",
   "metadata": {
    "scrolled": true
   },
   "outputs": [
    {
     "name": "stdout",
     "output_type": "stream",
     "text": [
      "(200794, 1) qld\n"
     ]
    }
   ],
   "source": [
    "response = s3_client.get_object(Bucket=bucket_name, Key=file_name)\n",
    "response_body = response[\"Body\"].read()\n",
    "temp = pd.read_csv(io.BytesIO(response_body), header=0, delimiter=\",\", low_memory=False)\n",
    "print(temp.shape, temp.columns[0])"
   ]
  },
  {
   "cell_type": "code",
   "execution_count": 58,
   "id": "0d93eab3",
   "metadata": {},
   "outputs": [
    {
     "name": "stdout",
     "output_type": "stream",
     "text": [
      "200795\n",
      "['qld', 'cabinet', 'document', 'mabo', 'decis', 'er', 'juggl', 'jarryd', 'hayn', 'talent', 'mistak', 'abjorensen', 'battlelin', 'drawn', 'alex', 'ross', 'take', 'dive', 'catch', 'dismiss', 'michael', 'lumb', 'ama', 'welcom', 'jab', 'pay', 'vaccin', 'polici', 'angri', 'nix', 'coach', 'merrick', 'slam', 'odonovan', 'headbutt', 'archbishop', 'philip', 'wilson', 'return', 'work', 'aurora', 'steal', 'show', 'light', 'new', 'year', 'night', 'sky', 'australian', 'flock', 'firework', 'display', 'around', 'countri', 'belgium', 'hold', 'three', 'peopl', 'new', 'year', 'attack', 'plot', 'boat', 'catch', 'fire', 'matilda', 'bay', 'perth', 'bob', 'hawk', 'discuss', 'releas', 'cabinet', 'paper', 'bodi', 'found', 'dure', 'search', 'miss', 'surfer', 'gold', 'coast', 'boulia', 'mayor', 'richard', 'brittain', 'discuss', 'flood', 'assist', 'buckmast', 'hollywood', 'industrialis', 'nostalgia', 'bushfir', 'clear', 'secret', 'harbour', 'south', 'perth', 'cas']\n"
     ]
    }
   ],
   "source": [
    "words = list(temp[temp.columns[0]])\n",
    "words.insert(0, temp.columns[0])\n",
    "print(len(words))\n",
    "print(words[:100])"
   ]
  },
  {
   "cell_type": "markdown",
   "id": "cd5c9f62",
   "metadata": {},
   "source": [
    "\n",
    "# TFIDF"
   ]
  },
  {
   "cell_type": "code",
   "execution_count": 65,
   "id": "34c1e864",
   "metadata": {},
   "outputs": [
    {
     "name": "stdout",
     "output_type": "stream",
     "text": [
      "5000\n",
      "['aaco', 'aaron', 'ab', 'abalon', 'abandon', 'abattoir', 'abba', 'abbott', 'abc', 'abcc', 'abdeslam', 'abduct', 'abl', 'abolish', 'aborigin', 'abort', 'abov', 'absolut', 'abu', 'abus', 'acacia', 'academ', 'academi', 'accc', 'acceler', 'accept', 'access', 'accessori', 'accid', 'accident', 'acclaim', 'accommod', 'accord', 'account', 'accus', 'acdc', 'achiev', 'acid', 'acquir', 'acquisit', 'acquit', 'across', 'act', 'action', 'activ', 'activist', 'actor', 'actual', 'ad', 'adam', 'adani', 'adapt', 'add', 'addict', 'addit', 'address', 'adelaid', 'adf', 'adjourn', 'adjust', 'administr', 'admiss', 'admit', 'adopt', 'adult', 'advanc', 'advantag', 'adventur', 'advertis', 'advic', 'advis', 'advisor', 'advisori', 'advoc', 'aec', 'aerial', 'affair', 'affect', 'afford', 'afghan', 'afghanistan', 'afl', 'afp', 'africa', 'african', 'aft', 'aftermath', 'ag', 'agc', 'age', 'agenc', 'agenda', 'agent', 'agforc', 'aggress', 'agl', 'ago', 'agre', 'agreement', 'agribusi']\n"
     ]
    }
   ],
   "source": [
    "vectorizer1 = TfidfVectorizer(max_features = 5000)\n",
    "X1 = vectorizer1.fit_transform(words)\n",
    "word_features1 = vectorizer1.get_feature_names()\n",
    "print(len(word_features1))\n",
    "print(word_features1[:100])"
   ]
  },
  {
   "cell_type": "code",
   "execution_count": 66,
   "id": "d3c01d0f",
   "metadata": {},
   "outputs": [
    {
     "data": {
      "image/png": "[encoded data removed]",
      "text/plain": [
       "<Figure size 432x288 with 1 Axes>"
      ]
     },
     "metadata": {
      "needs_background": "light"
     },
     "output_type": "display_data"
    }
   ],
   "source": [
    "from sklearn.cluster import KMeans\n",
    "wcss = []\n",
    "for i in range(1,11):\n",
    "    kmeans = KMeans(n_clusters=i,init='k-means++',max_iter=300,n_init=10,random_state=0)\n",
    "    kmeans.fit(X1)\n",
    "    wcss.append(kmeans.inertia_)\n",
    "plt.plot(range(1,11),wcss)\n",
    "plt.title('The Elbow Method')\n",
    "plt.xlabel('Number of clusters')\n",
    "plt.ylabel('WCSS')\n",
    "plt.show()"
   ]
  },
  {
   "cell_type": "markdown",
   "id": "332c2c87",
   "metadata": {},
   "source": [
    "# Kmeans"
   ]
  },
  {
   "cell_type": "code",
   "execution_count": 72,
   "id": "b0224830",
   "metadata": {},
   "outputs": [
    {
     "name": "stderr",
     "output_type": "stream",
     "text": [
      "/home/ec2-user/anaconda3/envs/python3/lib/python3.6/site-packages/sklearn/cluster/_kmeans.py:793: FutureWarning: 'n_jobs' was deprecated in version 0.23 and will be removed in 1.0 (renaming of 0.25).\n",
      "  \" removed in 1.0 (renaming of 0.25).\", FutureWarning)\n"
     ]
    },
    {
     "name": "stdout",
     "output_type": "stream",
     "text": [
      "0 : bootu, share, record, crowd, car, water, port, lincoln, wharf, chang, action, bus, fare, charli, hebdo, feel, alon, fight, poke, holiday, report, caleb, spot, domin, bay\n",
      "1 : anim, flood, hope, owner, local, target, man, attack, wait, shoot, fire, landhold, lead, protect, time, tel, mel, three, defenc, strength, oper, mountain, citizen, chris, brisban\n",
      "2 : ai, share, holiday, car, water, port, lincoln, wharf, chang, action, bus, fare, charli, hebdo, feel, alon, fight, poke, fun, crowd, record, ewan, report, bay, classic\n"
     ]
    }
   ],
   "source": [
    "# n_init(number of iterations for clsutering) n_jobs(number of cpu cores to use)\n",
    "kmeans = KMeans(n_clusters = 3, n_init = 20, n_jobs = 1) \n",
    "kmeans.fit(X1)\n",
    "# We look at 3 the clusters generated by k-means.\n",
    "common_words = kmeans.cluster_centers_.argsort()[:,-1:-26:-1]\n",
    "for num, centroid in enumerate(common_words):\n",
    "    print(str(num) + ' : ' + ', '.join(words[word] for word in centroid))"
   ]
  },
  {
   "cell_type": "markdown",
   "id": "92affef1",
   "metadata": {},
   "source": [
    "# Prediction"
   ]
  },
  {
   "cell_type": "code",
   "execution_count": 75,
   "id": "bdda9835",
   "metadata": {},
   "outputs": [
    {
     "name": "stdout",
     "output_type": "stream",
     "text": [
      "[1]\n"
     ]
    }
   ],
   "source": [
    "Y = vectorizer1.transform([\"landlord attack the man\"])\n",
    "prediction = kmeans.predict(Y)\n",
    "print(prediction)"
   ]
  }
 ],
 "metadata": {
  "kernelspec": {
   "display_name": "conda_python3",
   "language": "python",
   "name": "conda_python3"
  },
  "language_info": {
   "codemirror_mode": {
    "name": "ipython",
    "version": 3
   },
   "file_extension": ".py",
   "mimetype": "text/x-python",
   "name": "python",
   "nbconvert_exporter": "python",
   "pygments_lexer": "ipython3",
   "version": "3.6.13"
  }
 },
 "nbformat": 4,
 "nbformat_minor": 5
}
