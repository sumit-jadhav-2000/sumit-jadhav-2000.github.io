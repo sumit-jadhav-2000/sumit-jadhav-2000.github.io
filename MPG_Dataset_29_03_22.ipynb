{
  "nbformat": 4,
  "nbformat_minor": 0,
  "metadata": {
    "colab": {
      "name": "MPG_Dataset_29/03/22.ipynb",
      "provenance": [],
      "collapsed_sections": [],
      "authorship_tag": "ABX9TyP1XJzdKXEEdiHTA8x8z/S0",
      "include_colab_link": true
    },
    "kernelspec": {
      "name": "python3",
      "display_name": "Python 3"
    },
    "language_info": {
      "name": "python"
    }
  },
  "cells": [
    {
      "cell_type": "markdown",
      "metadata": {
        "id": "view-in-github",
        "colab_type": "text"
      },
      "source": [
        "<a href=\"https://colab.research.google.com/github/sumit-jadhav-2000/sumit-jadhav-2000.github.io/blob/master/MPG_Dataset_29_03_22.ipynb\" target=\"_parent\"><img src=\"https://colab.research.google.com/assets/colab-badge.svg\" alt=\"Open In Colab\"/></a>"
      ]
    },
    {
      "cell_type": "markdown",
      "source": [
        "Step 1. Import the necessary libraries"
      ],
      "metadata": {
        "id": "GlLzdJuXzGe5"
      }
    },
    {
      "cell_type": "code",
      "execution_count": 3,
      "metadata": {
        "id": "n2q7iMDEy7AG"
      },
      "outputs": [],
      "source": [
        "import pandas as pd"
      ]
    },
    {
      "cell_type": "markdown",
      "source": [
        "Step 2. Import the first dataset cars1 and cars2.\n",
        "\n",
        "Step 3. Assign each to a variable called cars1 and cars2"
      ],
      "metadata": {
        "id": "VbxCxqyJzKEZ"
      }
    },
    {
      "cell_type": "code",
      "source": [
        "cars1 = pd.read_csv('https://raw.githubusercontent.com/a-forty-two/COG_GN22CDBDS001_MARCH_22/main/cars1.csv')\n",
        "cars2 = pd.read_csv('https://raw.githubusercontent.com/a-forty-two/COG_GN22CDBDS001_MARCH_22/main/cars2.csv')"
      ],
      "metadata": {
        "id": "Mr1BNz3szNhM"
      },
      "execution_count": 15,
      "outputs": []
    },
    {
      "cell_type": "markdown",
      "source": [
        "Step 4. Oops, it seems our first dataset has some unnamed blank columns, fix cars1"
      ],
      "metadata": {
        "id": "wKBkH8URzj6B"
      }
    },
    {
      "cell_type": "code",
      "source": [
        "print(cars1.info(), cars2.info())\n",
        "cars1.drop(labels=['Unnamed: 9', 'Unnamed: 10', 'Unnamed: 11', 'Unnamed: 12', 'Unnamed: 13'], axis=1, inplace=True)\n",
        "print(cars1.info())"
      ],
      "metadata": {
        "colab": {
          "base_uri": "https://localhost:8080/"
        },
        "id": "gRmFmN_tzl6i",
        "outputId": "1d5942aa-2bb9-41bb-9c95-f4c7f3c089ef"
      },
      "execution_count": 16,
      "outputs": [
        {
          "output_type": "stream",
          "name": "stdout",
          "text": [
            "<class 'pandas.core.frame.DataFrame'>\n",
            "RangeIndex: 198 entries, 0 to 197\n",
            "Data columns (total 14 columns):\n",
            " #   Column        Non-Null Count  Dtype  \n",
            "---  ------        --------------  -----  \n",
            " 0   mpg           198 non-null    float64\n",
            " 1   cylinders     198 non-null    int64  \n",
            " 2   displacement  198 non-null    int64  \n",
            " 3   horsepower    198 non-null    object \n",
            " 4   weight        198 non-null    int64  \n",
            " 5   acceleration  198 non-null    float64\n",
            " 6   model         198 non-null    int64  \n",
            " 7   origin        198 non-null    int64  \n",
            " 8   car           198 non-null    object \n",
            " 9   Unnamed: 9    0 non-null      float64\n",
            " 10  Unnamed: 10   0 non-null      float64\n",
            " 11  Unnamed: 11   0 non-null      float64\n",
            " 12  Unnamed: 12   0 non-null      float64\n",
            " 13  Unnamed: 13   0 non-null      float64\n",
            "dtypes: float64(7), int64(5), object(2)\n",
            "memory usage: 21.8+ KB\n",
            "<class 'pandas.core.frame.DataFrame'>\n",
            "RangeIndex: 200 entries, 0 to 199\n",
            "Data columns (total 9 columns):\n",
            " #   Column        Non-Null Count  Dtype  \n",
            "---  ------        --------------  -----  \n",
            " 0   mpg           200 non-null    float64\n",
            " 1   cylinders     200 non-null    int64  \n",
            " 2   displacement  200 non-null    int64  \n",
            " 3   horsepower    200 non-null    object \n",
            " 4   weight        200 non-null    int64  \n",
            " 5   acceleration  200 non-null    float64\n",
            " 6   model         200 non-null    int64  \n",
            " 7   origin        200 non-null    int64  \n",
            " 8   car           200 non-null    object \n",
            "dtypes: float64(2), int64(5), object(2)\n",
            "memory usage: 14.2+ KB\n",
            "None None\n",
            "<class 'pandas.core.frame.DataFrame'>\n",
            "RangeIndex: 198 entries, 0 to 197\n",
            "Data columns (total 9 columns):\n",
            " #   Column        Non-Null Count  Dtype  \n",
            "---  ------        --------------  -----  \n",
            " 0   mpg           198 non-null    float64\n",
            " 1   cylinders     198 non-null    int64  \n",
            " 2   displacement  198 non-null    int64  \n",
            " 3   horsepower    198 non-null    object \n",
            " 4   weight        198 non-null    int64  \n",
            " 5   acceleration  198 non-null    float64\n",
            " 6   model         198 non-null    int64  \n",
            " 7   origin        198 non-null    int64  \n",
            " 8   car           198 non-null    object \n",
            "dtypes: float64(2), int64(5), object(2)\n",
            "memory usage: 14.0+ KB\n",
            "None\n"
          ]
        }
      ]
    },
    {
      "cell_type": "markdown",
      "source": [
        "Step 5. What is the number of observations in each dataset?"
      ],
      "metadata": {
        "id": "eeV766gS0Ja1"
      }
    },
    {
      "cell_type": "code",
      "source": [
        "print('No. of observations in cars1 : ', cars1.shape[0])\n",
        "print('No. of observations in cars2 : ', cars2.shape[0])"
      ],
      "metadata": {
        "colab": {
          "base_uri": "https://localhost:8080/"
        },
        "id": "F7ci4QoM0J_0",
        "outputId": "44dc447e-9aca-422d-ae9e-492aa5ab35a7"
      },
      "execution_count": 17,
      "outputs": [
        {
          "output_type": "stream",
          "name": "stdout",
          "text": [
            "No. of observations in cars1 :  198\n",
            "No. of observations in cars2 :  200\n"
          ]
        }
      ]
    },
    {
      "cell_type": "markdown",
      "source": [
        "Step 6. Join cars1 and cars2 into a single DataFrame called cars"
      ],
      "metadata": {
        "id": "EnUJlNn10YL2"
      }
    },
    {
      "cell_type": "code",
      "source": [
        "cars = pd.concat([cars1, cars2])\n",
        "cars.info()"
      ],
      "metadata": {
        "colab": {
          "base_uri": "https://localhost:8080/"
        },
        "id": "UUwlwZJ70fmo",
        "outputId": "77dccbf4-709b-4a95-849a-29431f361136"
      },
      "execution_count": 23,
      "outputs": [
        {
          "output_type": "stream",
          "name": "stdout",
          "text": [
            "<class 'pandas.core.frame.DataFrame'>\n",
            "Int64Index: 398 entries, 0 to 199\n",
            "Data columns (total 9 columns):\n",
            " #   Column        Non-Null Count  Dtype  \n",
            "---  ------        --------------  -----  \n",
            " 0   mpg           398 non-null    float64\n",
            " 1   cylinders     398 non-null    int64  \n",
            " 2   displacement  398 non-null    int64  \n",
            " 3   horsepower    398 non-null    object \n",
            " 4   weight        398 non-null    int64  \n",
            " 5   acceleration  398 non-null    float64\n",
            " 6   model         398 non-null    int64  \n",
            " 7   origin        398 non-null    int64  \n",
            " 8   car           398 non-null    object \n",
            "dtypes: float64(2), int64(5), object(2)\n",
            "memory usage: 31.1+ KB\n"
          ]
        }
      ]
    },
    {
      "cell_type": "markdown",
      "source": [
        "Step 7. Oops, there is a column missing, called owners. Create a random number Series from 15,000 to 73,000.\n",
        "\n",
        "Step 8. Add the column owners to cars"
      ],
      "metadata": {
        "id": "QxJuUUXI13n3"
      }
    },
    {
      "cell_type": "code",
      "source": [
        "import random\n",
        "owners = random.sample(range(15000,73001), k=len(cars))\n",
        "#print(type(owners))\n",
        "\n",
        "cars['owners'] = owners"
      ],
      "metadata": {
        "id": "55wzIfK614cq"
      },
      "execution_count": 25,
      "outputs": []
    }
  ]
}